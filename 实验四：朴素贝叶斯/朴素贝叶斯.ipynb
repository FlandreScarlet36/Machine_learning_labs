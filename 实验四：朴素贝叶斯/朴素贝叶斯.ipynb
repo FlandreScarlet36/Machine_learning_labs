{
 "cells": [
  {
   "cell_type": "markdown",
   "metadata": {},
   "source": [
    "# 实验四  朴素贝叶斯\n",
    "\n",
    "## 数据集\n",
    "Most Popular Data Set中的wine数据集（对意大利同一地区声场的三种不同品种的酒做大量分析所得出的数据）\n",
    "\n",
    "## 基本要求\n",
    "采用分层采样的方式将数据集划分为训练集和测试集。 \n",
    "给定编写一个朴素贝叶斯分类器，对测试集进行预测，计算分类准确率。\n",
    "## 中级要求\n",
    "使用测试集评估模型，得到混淆矩阵，精度，召回率，F值。\n",
    "## 高级要求\n",
    "在中级要求的基础上画出三类数据的ROC曲线，并求出AUC值。\n",
    "## 拓展要求\n",
    "浅谈ROC曲线和AUC值作为分类评价的合理性。\n"
   ]
  },
  {
   "cell_type": "markdown",
   "metadata": {},
   "source": [
    "## 一. 基本要求"
   ]
  },
  {
   "cell_type": "markdown",
   "metadata": {},
   "source": [
    "### 1. 导入数据集"
   ]
  },
  {
   "cell_type": "code",
   "execution_count": 26,
   "metadata": {},
   "outputs": [],
   "source": [
    "import math\n",
    "import numpy as np\n",
    "import matplotlib.pyplot as plt\n",
    "\n",
    "f = open('wine.data', 'r')\n",
    "types = [[], [], []]                      # 按类分的所有数据\n",
    "test_data = [[], [], []]\n",
    "train_data = [[], [], []]\n",
    "data_num = 0                            # 数据总数\n",
    "test_len = []                           # 测试集里每一类的个数\n",
    "means = [[], [], []]                      # 每一类的均值\n",
    "std = [[], [], []]                        # 每一类的标准差\n",
    "myline = '1'\n",
    "while myline:\n",
    "    myline = f.readline().split(',')\n",
    "    if len(myline) != 14:\n",
    "        break\n",
    "    for t in range(len(myline)):\n",
    "        if t == 0:\n",
    "            myline[t] = int(myline[t])\n",
    "        else:\n",
    "            myline[t] = float(myline[t])\n",
    "    temp = myline.pop(0)\n",
    "    types[temp - 1].append(myline)\n",
    "test_len = [round(len(types[i]) / 10) for i in range(3)]\n",
    "data_num = sum([len(types[i]) for i in range(3)])\n",
    "y_test=[]   # 保存测试集属性\n",
    "y_pred_test=[]   # 保存测试集真实类别\n",
    "y_pred_score=[]"
   ]
  },
  {
   "cell_type": "code",
   "execution_count": 23,
   "metadata": {},
   "outputs": [],
   "source": [
    "y_test=[]   # 保存测试集属性\n",
    "y_pred_test=[]   # 保存测试集真实类别\n",
    "y_pred_score=[]"
   ]
  },
  {
   "cell_type": "markdown",
   "metadata": {},
   "source": [
    "### 2. 构建朴素贝叶斯分类器"
   ]
  },
  {
   "cell_type": "code",
   "execution_count": 9,
   "metadata": {},
   "outputs": [],
   "source": [
    "def bayes_classificate(train_data, test_data):\n",
    "    for i in range(3):\n",
    "        means[i] = np.mean(train_data[i], axis=0)        # 分别计算三个类别的均值\n",
    "        std[i] = np.std(train_data[i], axis=0)           # 这里是标准差\n",
    "    wrong_num = 0\n",
    "    for i in range(3):\n",
    "        for t in test_data[i]:                  # 两层循环：从每一类取每一个测试样本\n",
    "            my_type = []\n",
    "            y_score=[]\n",
    "            for j in range(3):\n",
    "                # 由于数据集中所有的属性都是连续值，连续值的似然估计可以按照高斯分布来计算：\n",
    "                temp = np.log((2*math.pi) ** 0.5 * std[j])\n",
    "                temp += np.power(t - means[j], 2) / (2 * np.power(std[j], 2))\n",
    "                temp = np.sum(temp)\n",
    "                temp = -1*temp+math.log(len(types[j])/data_num)\n",
    "                my_type.append(temp)                        # 这里将所有score保存\n",
    "            pre_type = my_type.index(max(my_type))          # 取分值最大的为预测类别\n",
    "            my_type.append(i)\n",
    "            y_pred_score.append(my_type)\n",
    "            \n",
    "            y_pred_test.append(pre_type)\n",
    "            if pre_type != i:                               # 统计错误数\n",
    "                wrong_num += 1\n",
    "    return wrong_num"
   ]
  },
  {
   "cell_type": "markdown",
   "metadata": {},
   "source": [
    "### 3. 分层抽样与分类"
   ]
  },
  {
   "cell_type": "code",
   "execution_count": 25,
   "metadata": {},
   "outputs": [
    {
     "name": "stdout",
     "output_type": "stream",
     "text": [
      "分类准确率: 0.9775280898876404\n"
     ]
    }
   ],
   "source": [
    "wrong_num = 0\n",
    "\n",
    "for i in range(10): \n",
    "    for j in range(3):\n",
    "        # 分层抽样\n",
    "        if (i+1)*test_len[j] > len(types[j]):\n",
    "            test_data[j] = np.mat(types[j][i*test_len[j]:])\n",
    "            train_data[j] = np.mat(types[j][:i*test_len[j]])\n",
    "        else:\n",
    "            test_data[j] = np.mat(types[j][i*test_len[j]:(i+1)*test_len[j]])\n",
    "            train_data[j] = np.mat(types[j][:i*test_len[j]]+types[j][(i+1)*test_len[j]:])\n",
    "            \n",
    "    # 数据带入朴素贝叶斯分类器\n",
    "    wrong_num += bayes_classificate(train_data, test_data)\n",
    "print(\"分类准确率: \"+str(1-wrong_num/data_num))"
   ]
  },
  {
   "cell_type": "markdown",
   "metadata": {},
   "source": [
    "## 二. 中级要求"
   ]
  },
  {
   "cell_type": "markdown",
   "metadata": {},
   "source": [
    "### 1. 计算混淆矩阵"
   ]
  },
  {
   "cell_type": "code",
   "execution_count": 11,
   "metadata": {},
   "outputs": [],
   "source": [
    "def cal_confusion(y_test,y_pred_test):\n",
    "    confusion = np.zeros((3,3))\n",
    "    for i in range(len(y_test)):\n",
    "        confusion[y_test[i]][y_pred_test[i]] += 1\n",
    "    confusion=np.array(confusion)\n",
    "    return confusion"
   ]
  },
  {
   "cell_type": "markdown",
   "metadata": {},
   "source": [
    "### 2. 根据混淆矩阵进行精度、召回率和F值的计算"
   ]
  },
  {
   "cell_type": "code",
   "execution_count": 12,
   "metadata": {},
   "outputs": [
    {
     "name": "stdout",
     "output_type": "stream",
     "text": [
      "混淆矩阵为：\n",
      " [[57.  2.  0.]\n",
      " [ 0. 68.  2.]\n",
      " [ 0.  0. 48.]]\n",
      "           precision     recall    f1-score    support\n",
      "1\t      1.0\t   0.97\t      0.98\t   59\t\n",
      "2\t      0.97\t   0.97\t      0.97\t   70\t\n",
      "3\t      0.96\t   1.0\t      0.98\t   48\t\n",
      "macro avg:    0.98\t   0.98\t      0.98\t   177\t\n"
     ]
    }
   ],
   "source": [
    "con_mat = cal_confusion(y_test, y_pred_test)\n",
    "print(\"混淆矩阵为：\\n\",con_mat)\n",
    "\n",
    "precision = []  #保存精度\n",
    "recall = []     #保存召回率\n",
    "F1_score = []  # 保存F值\n",
    "\n",
    "# 计算精度\n",
    "for i in range(3):\n",
    "    precision.append(round(con_mat[i][i]/np.sum(con_mat,axis=0)[i],2))\n",
    "# 计算召回率\n",
    "for i in range(3):\n",
    "    recall.append(round(con_mat[i][i]/np.sum(con_mat,axis=1)[i],2))\n",
    "# 计算F值\n",
    "for i in range(3):\n",
    "    F1_score.append(round(2*precision[i]*recall[i]/(precision[i]+recall[i]),2))\n",
    "# 计算support值\n",
    "support = np.sum(con_mat,axis=1)\n",
    "\n",
    "print(\"           precision     recall    f1-score    support\")\n",
    "for i in range(3):\n",
    "    print(\"{}\\t      {}\\t   {}\\t      {}\\t   {}\\t\".format(i+1,precision[i],recall[i],F1_score[i],int(support[i])))\n",
    "print(\"macro avg:    {}\\t   {}\\t      {}\\t   {}\\t\".format(round(np.sum(precision)/len(types),2),\n",
    "round(np.sum(recall)/len(types), 2), round(np.sum(F1_score)/len(types), 2), int(np.sum(con_mat))))"
   ]
  },
  {
   "cell_type": "markdown",
   "metadata": {},
   "source": [
    "## 三. 高级要求"
   ]
  },
  {
   "cell_type": "markdown",
   "metadata": {},
   "source": [
    "### 1. 定义roc_curve()函数"
   ]
  },
  {
   "cell_type": "code",
   "execution_count": 17,
   "metadata": {},
   "outputs": [],
   "source": [
    "def roc_curve(scores, label):\n",
    "    # 初始化空列表来存储假正例率（FPR）和真正例率（TPR）\n",
    "    fpr = []\n",
    "    tpr = []\n",
    "\n",
    "    # 将正类别（positive）和负类别（negative）的样本分开\n",
    "    p_s = [i for i in scores if i[3] == label]  # 正类别样本\n",
    "    n_s = [i for i in scores if i[3] != label]  # 负类别样本\n",
    "\n",
    "    # 计算正类别和负类别样本的数量\n",
    "    postive_num = len(p_s)\n",
    "    negative_num = len(n_s)\n",
    "\n",
    "    # 对每个分数阈值计算对应的 FPR 和 TPR\n",
    "    for i in scores:\n",
    "        threshold = i[label]\n",
    "        fp_num = 0  # 假正例数量\n",
    "        tp_num = 0  # 真正例数量\n",
    "\n",
    "        # 计算在当前阈值下，正类别样本和负类别样本的 FPR 和 TPR\n",
    "        for j in p_s:\n",
    "            if j[label] >= threshold:\n",
    "                tp_num += 1\n",
    "        for j in n_s:\n",
    "            if j[label] >= threshold:\n",
    "                fp_num += 1\n",
    "\n",
    "        # 计算并添加 FPR 和 TPR 到对应的列表\n",
    "        fpr.append(fp_num / negative_num)\n",
    "        tpr.append(tp_num / postive_num)\n",
    "\n",
    "    # 添加 (0,0) 到 ROC 曲线的末尾，表示 FPR 和 TPR 均为零\n",
    "    fpr.append(0)\n",
    "    tpr.append(0)\n",
    "\n",
    "    # 计算曲线下面积（AUC）\n",
    "    auc = 0.0\n",
    "    for i in p_s:\n",
    "        for j in n_s:\n",
    "            if i[label] > j[label]:\n",
    "                auc += 1\n",
    "            elif i[label] == j[label]:\n",
    "                auc += 0.5\n",
    "    auc /= (postive_num * negative_num)  # 归一化 AUC 值\n",
    "\n",
    "    # 返回 FPR 列表、TPR 列表和计算出的 AUC 值\n",
    "    return fpr, tpr, auc\n"
   ]
  },
  {
   "cell_type": "markdown",
   "metadata": {},
   "source": [
    "### 2. 计算每个类别的fpr、tpr和auc"
   ]
  },
  {
   "cell_type": "code",
   "execution_count": 18,
   "metadata": {},
   "outputs": [
    {
     "name": "stdout",
     "output_type": "stream",
     "text": [
      "第0类红酒AUC值为0.9948290721057167\n",
      "第1类红酒AUC值为0.9337783711615487\n",
      "第2类红酒AUC值为0.9925710594315246\n"
     ]
    }
   ],
   "source": [
    "# 计算每一类的ROC和AUC\n",
    "fpr = dict()\n",
    "tpr = dict()\n",
    "auc = dict()\n",
    "for i in range(len(types)):\n",
    "    score_sort = sorted(y_pred_score, key=lambda x: x[i])\n",
    "    fpr[i], tpr[i], auc[i] = roc_curve(score_sort, i)\n",
    "    print(\"第{}类红酒AUC值为{}\".format(i, auc[i]))"
   ]
  },
  {
   "cell_type": "markdown",
   "metadata": {},
   "source": [
    "### 3. 绘制ROC图像"
   ]
  },
  {
   "cell_type": "code",
   "execution_count": 19,
   "metadata": {},
   "outputs": [
    {
     "data": {
      "image/png": "[encoded data removed]",
      "text/plain": [
       "<Figure size 800x640 with 1 Axes>"
      ]
     },
     "metadata": {},
     "output_type": "display_data"
    }
   ],
   "source": [
    "plt.figure(figsize=(10,8),dpi=80)\n",
    "colors = ['r', 'y', 'b']\n",
    "for i, color in zip(range(len(types)), colors):\n",
    "    plt.plot(fpr[i], tpr[i], color=color,label='ROC curve of class {0} (area = {1:0.2f})'.format(i, auc[i]))\n",
    "plt.plot([0, 1], [0, 1], 'k--')\n",
    "plt.xlim([0.0, 1.0])\n",
    "plt.ylim([0.0, 1.05])\n",
    "plt.xlabel('False Positive Rate')\n",
    "plt.ylabel('True Positive Rate')\n",
    "plt.title('ROC')\n",
    "plt.legend(loc=\"lower right\")\n",
    "plt.show()"
   ]
  },
  {
   "cell_type": "markdown",
   "metadata": {},
   "source": [
    "## 拓展要求\n",
    "### 合理性：\n",
    "\n",
    "#### ROC曲线的合理性：\n",
    "\n",
    "不受类别分布影响： ROC曲线不受不平衡类别分布的影响，因此适用于不平衡数据集，其中正例和负例的数量差距较大。\n",
    "\n",
    "可视化分类器性能： ROC曲线提供了分类器在不同阈值下的性能可视化，帮助用户根据应用需求选择合适的阈值。\n",
    "\n",
    "无需知道类别分布： ROC曲线的绘制不需要了解正例和负例的先验分布，仅依赖分类器的输出分数。\n",
    "#### AUC值的合理性：\n",
    "\n",
    "数值化性能： AUC值是ROC曲线下面积的度量，提供了分类器性能的单个数值评估，方便比较不同分类器的性能。\n",
    "\n",
    "概率解释： AUC值可以解释为从随机选择正例和负例样本时，分类器正确分类的概率。AUC值越接近1，分类器性能越好。\n",
    "\n",
    "### 限制和注意事项：\n",
    "\n",
    "#### ROC曲线的限制：\n",
    "\n",
    "不考虑类别概率： ROC曲线不考虑分类器输出的概率值，而只关注排序。因此，如果应用需要考虑概率信息，可能需要其他评估指标。\n",
    "\n",
    "不适用于多类别问题： ROC曲线通常用于二元分类问题，不直接适用于多类别问题。在多类别问题中，可以使用One-Versus-Rest (OvR) ROC曲线。\n",
    "\n",
    "#### AUC值的限制：\n",
    "\n",
    "不敏感于类别分布： AUC值不敏感于正例和负例的比例，这可以是优点，但也可能隐藏问题。在极不平衡的数据集中，AUC值可能高，但分类器的性能不一定好。\n",
    "\n",
    "不考虑阈值选择： AUC值不考虑阈值的选择，而是整体性能的度量。在某些应用中，阈值的选择可能非常重要。"
   ]
  }
 ],
 "metadata": {
  "kernelspec": {
   "display_name": "Python 3 (ipykernel)",
   "language": "python",
   "name": "python3"
  },
  "language_info": {
   "codemirror_mode": {
    "name": "ipython",
    "version": 3
   },
   "file_extension": ".py",
   "mimetype": "text/x-python",
   "name": "python",
   "nbconvert_exporter": "python",
   "pygments_lexer": "ipython3",
   "version": "3.11.4"
  }
 },
 "nbformat": 4,
 "nbformat_minor": 4
}
