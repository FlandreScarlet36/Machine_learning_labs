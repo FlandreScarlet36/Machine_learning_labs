{
 "cells": [
  {
   "cell_type": "markdown",
   "metadata": {},
   "source": [
    "# 机器学习作业一：KNN\n",
    "- 姓名：史文天\n",
    "- 学号：2110688\n",
    "- 专业：信息安全"
   ]
  },
  {
   "cell_type": "markdown",
   "metadata": {},
   "source": [
    "### 实验要求\n",
    "题目：基于KNN 的手写数字识别\n",
    "实验条件：给定semeion手写数字数据集，给定kNN分类算法\n",
    "实验要求：\n",
    "1. 基本要求：编程实现kNN算法；给出在不同k值（1，3，5）情况下，kNN算法对手写数字的识别精度（要求采用留一法）\n",
    "2. 中级要求：与weka机器学习包中的kNN分类结果进行对比\n",
    "3. 提高要求：将实验过程结果等图示展出\n",
    "\n",
    "**截止日期：9月29日**\n",
    "- 以.ipynb形式的文件提交，输出运行结果，并确保自己的代码能够正确运行\n",
    "- 发送到邮箱：18329300691@163.com"
   ]
  },
  {
   "cell_type": "markdown",
   "metadata": {},
   "source": [
    "### 导入需要的包"
   ]
  },
  {
   "cell_type": "code",
   "execution_count": 4,
   "metadata": {},
   "outputs": [],
   "source": [
    "#导入所需的包\n",
    "import numpy as np\n",
    "import operator\n",
    "from collections import Counter\n",
    "from sklearn.model_selection import train_test_split,cross_val_score\n",
    "from sklearn.model_selection import LeaveOneOut\n",
    "from sklearn.neighbors import KNeighborsClassifier\n",
    "from tqdm import tqdm\n",
    "import matplotlib.pyplot as plt\n",
    "import time"
   ]
  },
  {
   "cell_type": "markdown",
   "metadata": {},
   "source": [
    "### 导入数据集 semesion"
   ]
  },
  {
   "cell_type": "code",
   "execution_count": 7,
   "metadata": {},
   "outputs": [],
   "source": [
    "# 导入数据\n",
    "def Img2Mat(fileName):\n",
    "    f = open(fileName)\n",
    "    ss = f.readlines()\n",
    "    l = len(ss)\n",
    "    f.close()\n",
    "    returnMat = np.zeros((l,256))\n",
    "    returnClassVector = np.zeros((l,1))\n",
    "    for i in range(l):\n",
    "        s1 = ss[i].split()\n",
    "        for j in range(256):\n",
    "            returnMat[i][j] = np.float64(s1[j])\n",
    "        clCount = 0\n",
    "        for j in range(256,266):\n",
    "            if s1[j] != '1':\n",
    "                clCount += 1\n",
    "            else:\n",
    "                break\n",
    "        returnClassVector[i] = clCount\n",
    "    return returnMat,returnClassVector"
   ]
  },
  {
   "cell_type": "code",
   "execution_count": 8,
   "metadata": {},
   "outputs": [
    {
     "data": {
      "text/plain": [
       "((1593, 256), (1593, 1))"
      ]
     },
     "execution_count": 8,
     "metadata": {},
     "output_type": "execute_result"
    }
   ],
   "source": [
    "X,y = Img2Mat('semeion.data')\n",
    "np.shape(X), np.shape(y)"
   ]
  },
  {
   "cell_type": "markdown",
   "metadata": {},
   "source": [
    "### 基本要求\n",
    "编程实现kNN算法；给出不同k值（1，3，5）情况下，kNN算法对手写数字的识别精度（模板中采用的是普通方法分割训练集和测试集，作业中需要用留一法）"
   ]
  },
  {
   "cell_type": "markdown",
   "metadata": {},
   "source": [
    "留一法的一个优点是每次迭代中都使用了最大可能数目的样本来训练。另一个优点是该方法具有确定性"
   ]
  },
  {
   "cell_type": "code",
   "execution_count": 10,
   "metadata": {},
   "outputs": [],
   "source": [
    "# KNN算法手动实现\n",
    "from sklearn.model_selection import LeaveOneOut\n",
    "def MyKnnClassifier(data_X, data_y, neighbors):\n",
    "    acc = 0   # 计算准确率\n",
    "    # 生成数据集和测试集\n",
    "    loo = LeaveOneOut()\n",
    "    book=0\n",
    "    for train_row_index, test_row_index in loo.split(data_X):\n",
    "        book+=1\n",
    "        X_train = data_X[train_row_index, :]\n",
    "        X_test = data_X[test_row_index]\n",
    "        y_train =data_y[train_row_index, :]\n",
    "        y_test = data_y[test_row_index]\n",
    "        trainShape = X_train.shape[0]   # 获得训练集的大小\n",
    "        testShape = X_test.shape[0]     # 获得测试集的大小\n",
    "        testRes = []  # 存放测试结果\n",
    "        # print(X_test)\n",
    "        # 差异矩阵 = 该样本与训练集中所有样本之差构成的矩阵\n",
    "        testDiffMat = np.tile(X_test,(trainShape , 1)) - X_train\n",
    "        sqTestDiffMat = testDiffMat ** 2    # 将差异矩阵平方\n",
    "        # 方差距离为方差矩阵的整行求和，是一个一位列向量\n",
    "        sqTestDiffDis = sqTestDiffMat.sum(axis=1)\n",
    "        testDiffDis = sqTestDiffDis ** 0.5  # 开方生成标准差距离\n",
    "        sortIndex = np.argsort(testDiffDis)   # 将标准差距离按照下标排序\n",
    "        labelCount = []\n",
    "        for j in range(neighbors):  # 考察k近邻属于哪些类\n",
    "            labelCount.append(y_train[sortIndex[j]][0])\n",
    "        classifyRes = Counter(labelCount)    # 把k近邻中最多的那个标签作为分类结果\n",
    "        classifyRes = classifyRes.most_common(2)[0][0]\n",
    "        testRes.append(classifyRes)\n",
    "        if classifyRes == y_test[0][0]:  # 分类正确则将accRate+1\n",
    "            acc += 1\n",
    "    accRate = acc / data_y.shape[0]\n",
    "    print('k={0}时，留一法测试个数为{1}  正确个数为：{2}  准确率为：{3}'.format(neighbors,X_test.shape[0],acc,accRate))\n",
    "    return accRate"
   ]
  },
  {
   "cell_type": "markdown",
   "metadata": {},
   "source": [
    "实验结果："
   ]
  },
  {
   "cell_type": "code",
   "execution_count": 11,
   "metadata": {},
   "outputs": [
    {
     "name": "stdout",
     "output_type": "stream",
     "text": [
      "k=1时，留一法测试个数为1  正确个数为：1459  准确率为：0.9158819836785939\n",
      "k=3时，留一法测试个数为1  正确个数为：1464  准确率为：0.9190207156308852\n",
      "k=5时，留一法测试个数为1  正确个数为：1458  准确率为：0.9152542372881356\n"
     ]
    },
    {
     "data": {
      "text/plain": [
       "0.9152542372881356"
      ]
     },
     "execution_count": 11,
     "metadata": {},
     "output_type": "execute_result"
    }
   ],
   "source": [
    "MyKnnClassifier(X, y, 1)\n",
    "MyKnnClassifier(X, y, 3)\n",
    "MyKnnClassifier(X, y, 5)"
   ]
  },
  {
   "cell_type": "markdown",
   "metadata": {},
   "source": [
    "## 中级要求\n",
    "与weka机器学习包中的kNN分类结果进行对比"
   ]
  },
  {
   "cell_type": "markdown",
   "metadata": {},
   "source": [
    "利用WEKA+留一法运行出来K=1时准确率为0.91651，K=3时准确率为0.902072，K=5时准确率为0.907094，下面通过可视化与编程实现的KNN留一法进行对比"
   ]
  },
  {
   "cell_type": "code",
   "execution_count": 13,
   "metadata": {},
   "outputs": [
    {
     "data": {
      "image/png": "[encoded data removed]",
      "text/plain": [
       "<Figure size 400x320 with 1 Axes>"
      ]
     },
     "metadata": {},
     "output_type": "display_data"
    }
   ],
   "source": [
    "plt.rcParams['font.sans-serif']=['SimHei']   #用来正常显示中文标签\n",
    "plt.rcParams['axes.unicode_minus']=False #用来正常显示负号\n",
    "\n",
    "# 准备数据x y\n",
    "x=range(1,6,2)\n",
    "y_weka=[0.91651,0.902072,0.907094]\n",
    "y_one=[0.91588,0.91902,0.91525]\n",
    "\n",
    "# 2.创建画布\n",
    "plt.figure(figsize=(5,4),dpi=80)\n",
    "\n",
    "# 3.绘制图像\n",
    "plt.plot(x,y_weka,color='r',linestyle='-',label=\"Weka\")\n",
    "plt.plot(x,y_one,color='b',linestyle='-.',label=\"留一法\")\n",
    "plt.legend()\n",
    "plt.grid(linestyle=\"--\")\n",
    "x = [1,3,5]\n",
    "plt.xticks(x)\n",
    "plt.xlabel(\"K值\")\n",
    "plt.ylabel(\"准确率\")\n",
    "# 4.显示图\n",
    "plt.show()"
   ]
  },
  {
   "cell_type": "markdown",
   "metadata": {},
   "source": [
    "### 高级要求\n",
    "上述已经将不同K值、多评价指标、多方法对比图展示出，下面仅对留一法、WEKA和调用sklearn库三种方法K=1~29进行准确率可视化进行对比分析"
   ]
  },
  {
   "cell_type": "code",
   "execution_count": 18,
   "metadata": {},
   "outputs": [],
   "source": [
    "# kNN算法sklearn库实现\n",
    "def KnnClassifier(data_X, data_y, neighbors, flag=0):\n",
    "    X_train, X_test, y_train, y_test = train_test_split(data_X, data_y, test_size=0.2)\n",
    "    knn = KNeighborsClassifier(n_neighbors=neighbors)\n",
    "    knn.fit(X_train, y_train.ravel())\n",
    "    print('k={0}时，scikit-learn训练手写体识别的准确率为：{1}'.format(neighbors,knn.score(X_test, y_test)))\n",
    "    # 交叉验证\n",
    "    if flag == 1:\n",
    "        scores = cross_val_score(knn,data_X,data_y.ravel(),cv=10,scoring='accuracy')\n",
    "        return scores.mean()"
   ]
  },
  {
   "cell_type": "code",
   "execution_count": 16,
   "metadata": {},
   "outputs": [
    {
     "name": "stdout",
     "output_type": "stream",
     "text": [
      "k=1时，留一法测试个数为1  正确个数为：1459  准确率为：0.9158819836785939\n",
      "k=2时，留一法测试个数为1  正确个数为：1459  准确率为：0.9158819836785939\n",
      "k=3时，留一法测试个数为1  正确个数为：1464  准确率为：0.9190207156308852\n",
      "k=4时，留一法测试个数为1  正确个数为：1465  准确率为：0.9196484620213434\n",
      "k=5时，留一法测试个数为1  正确个数为：1458  准确率为：0.9152542372881356\n",
      "k=6时，留一法测试个数为1  正确个数为：1464  准确率为：0.9190207156308852\n",
      "k=7时，留一法测试个数为1  正确个数为：1469  准确率为：0.9221594475831764\n",
      "k=8时，留一法测试个数为1  正确个数为：1472  准确率为：0.9240426867545511\n",
      "k=9时，留一法测试个数为1  正确个数为：1471  准确率为：0.9234149403640929\n",
      "k=10时，留一法测试个数为1  正确个数为：1465  准确率为：0.9196484620213434\n",
      "k=11时，留一法测试个数为1  正确个数为：1456  准确率为：0.9139987445072191\n",
      "k=12时，留一法测试个数为1  正确个数为：1460  准确率为：0.9165097300690521\n",
      "k=13时，留一法测试个数为1  正确个数为：1461  准确率为：0.9171374764595104\n",
      "k=14时，留一法测试个数为1  正确个数为：1453  准确率为：0.9121155053358443\n",
      "k=15时，留一法测试个数为1  正确个数为：1446  准确率为：0.9077212806026366\n",
      "k=16时，留一法测试个数为1  正确个数为：1446  准确率为：0.9077212806026366\n",
      "k=17时，留一法测试个数为1  正确个数为：1442  准确率为：0.9052102950408035\n",
      "k=18时，留一法测试个数为1  正确个数为：1438  准确率为：0.9026993094789705\n",
      "k=19时，留一法测试个数为1  正确个数为：1436  准确率为：0.901443816698054\n",
      "k=20时，留一法测试个数为1  正确个数为：1435  准确率为：0.9008160703075957\n",
      "k=21时，留一法测试个数为1  正确个数为：1436  准确率为：0.901443816698054\n",
      "k=22时，留一法测试个数为1  正确个数为：1440  准确率为：0.903954802259887\n",
      "k=23时，留一法测试个数为1  正确个数为：1435  准确率为：0.9008160703075957\n",
      "k=24时，留一法测试个数为1  正确个数为：1427  准确率为：0.8957940991839297\n",
      "k=25时，留一法测试个数为1  正确个数为：1426  准确率为：0.8951663527934715\n",
      "k=26时，留一法测试个数为1  正确个数为：1424  准确率为：0.8939108600125549\n",
      "k=27时，留一法测试个数为1  正确个数为：1424  准确率为：0.8939108600125549\n",
      "k=28时，留一法测试个数为1  正确个数为：1417  准确率为：0.8895166352793471\n",
      "k=29时，留一法测试个数为1  正确个数为：1423  准确率为：0.8932831136220967\n",
      "k=1时，scikit-learn训练手写体识别的准确率为：0.8871473354231975\n",
      "k=2时，scikit-learn训练手写体识别的准确率为：0.8746081504702194\n",
      "k=3时，scikit-learn训练手写体识别的准确率为：0.9090909090909091\n",
      "k=4时，scikit-learn训练手写体识别的准确率为：0.8934169278996865\n",
      "k=5时，scikit-learn训练手写体识别的准确率为：0.8871473354231975\n",
      "k=6时，scikit-learn训练手写体识别的准确率为：0.9153605015673981\n",
      "k=7时，scikit-learn训练手写体识别的准确率为：0.896551724137931\n",
      "k=8时，scikit-learn训练手写体识别的准确率为：0.8746081504702194\n",
      "k=9时，scikit-learn训练手写体识别的准确率为：0.9059561128526645\n",
      "k=10时，scikit-learn训练手写体识别的准确率为：0.890282131661442\n",
      "k=11时，scikit-learn训练手写体识别的准确率为：0.9090909090909091\n",
      "k=12时，scikit-learn训练手写体识别的准确率为：0.9090909090909091\n",
      "k=13时，scikit-learn训练手写体识别的准确率为：0.9090909090909091\n",
      "k=14时，scikit-learn训练手写体识别的准确率为：0.8840125391849529\n",
      "k=15时，scikit-learn训练手写体识别的准确率为：0.896551724137931\n",
      "k=16时，scikit-learn训练手写体识别的准确率为：0.9122257053291536\n",
      "k=17时，scikit-learn训练手写体识别的准确率为：0.9247648902821317\n",
      "k=18时，scikit-learn训练手写体识别的准确率为：0.8746081504702194\n",
      "k=19时，scikit-learn训练手写体识别的准确率为：0.8934169278996865\n",
      "k=20时，scikit-learn训练手写体识别的准确率为：0.890282131661442\n",
      "k=21时，scikit-learn训练手写体识别的准确率为：0.890282131661442\n",
      "k=22时，scikit-learn训练手写体识别的准确率为：0.8746081504702194\n",
      "k=23时，scikit-learn训练手写体识别的准确率为：0.877742946708464\n",
      "k=24时，scikit-learn训练手写体识别的准确率为：0.9122257053291536\n",
      "k=25时，scikit-learn训练手写体识别的准确率为：0.8808777429467085\n",
      "k=26时，scikit-learn训练手写体识别的准确率为：0.8401253918495298\n",
      "k=27时，scikit-learn训练手写体识别的准确率为：0.8871473354231975\n",
      "k=28时，scikit-learn训练手写体识别的准确率为：0.8652037617554859\n",
      "k=29时，scikit-learn训练手写体识别的准确率为：0.8683385579937304\n"
     ]
    }
   ],
   "source": [
    "scores1 = []\n",
    "scores2 = []\n",
    "\n",
    "# 留一法\n",
    "for k in range(1,30):\n",
    "    score1 = MyKnnClassifier(X, y, k)\n",
    "    scores1.append(score1)\n",
    "\n",
    "# sklearn库实现KNN\n",
    "for k in range(1,30):\n",
    "    score2 = KnnClassifier(X, y, k, 1)\n",
    "    scores2.append(score2)\n",
    "    \n",
    "# Weka实现KNN\n",
    "# 根据Weka运行结果可得得：\n",
    "scores3 = [0.916510, 0.885122, 0.902072, 0.907721, 0.907094, 0.907094, 0.912116, 0.908977, 0.908977, 0.905838,\n",
    "           0.905838, 0.905210, 0.904583, 0.901444, 0.896422, 0.896422, 0.894539, 0.893911, 0.893911, 0.895794,\n",
    "           0.895166, 0.897677, 0.893911, 0.893283, 0.891400, 0.887633, 0.885750, 0.885750, 0.888889]"
   ]
  },
  {
   "cell_type": "markdown",
   "metadata": {},
   "source": [
    "下图中展示出了不同K值对于留一法、sklearn库和Weka实现KNN的准确率曲线，可以观察到三种方法对于不同K值准确率变化趋势相同，且留一法相较于另外两种准确率较高"
   ]
  },
  {
   "cell_type": "code",
   "execution_count": 17,
   "metadata": {},
   "outputs": [
    {
     "data": {
      "image/png": "[encoded data removed]",
      "text/plain": [
       "<Figure size 640x400 with 1 Axes>"
      ]
     },
     "metadata": {},
     "output_type": "display_data"
    }
   ],
   "source": [
    "plt.figure(figsize=(8,5),dpi=80)\n",
    "\n",
    "x_major_locator = plt.MultipleLocator(1)\n",
    "ax = plt.gca()\n",
    "ax.xaxis.set_major_locator(x_major_locator)\n",
    "plt.xlim(0, 30)\n",
    "plt.ylim(0.75, 1)\n",
    "# 普通kNN分类精度\n",
    "plt.plot(range(1,30),scores1,'r',label=\"留一法\")\n",
    "plt.plot(range(1,30),scores2,'b',label=\"sklearn库\")\n",
    "plt.plot(range(1,30),scores3,'g',label=\"Weka\")\n",
    "\n",
    "plt.legend()\n",
    "plt.grid(linestyle=\"--\")\n",
    "plt.xlabel('k value:',fontsize=18)\n",
    "plt.ylabel('accuracy',fontsize=18)\n",
    "plt.show()"
   ]
  }
 ],
 "metadata": {
  "kernelspec": {
   "display_name": "Python 3 (ipykernel)",
   "language": "python",
   "name": "python3"
  },
  "language_info": {
   "codemirror_mode": {
    "name": "ipython",
    "version": 3
   },
   "file_extension": ".py",
   "mimetype": "text/x-python",
   "name": "python",
   "nbconvert_exporter": "python",
   "pygments_lexer": "ipython3",
   "version": "3.11.5"
  }
 },
 "nbformat": 4,
 "nbformat_minor": 4
}
